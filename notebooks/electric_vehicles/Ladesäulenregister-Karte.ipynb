{
 "cells": [
  {
   "cell_type": "code",
   "execution_count": 138,
   "id": "7bbfd212-458a-47f8-b538-7e7ea97afa34",
   "metadata": {},
   "outputs": [],
   "source": [
    "import pandas as pd\n",
    "import folium\n",
    "from folium.plugins import MarkerCluster"
   ]
  },
  {
   "cell_type": "code",
   "execution_count": 139,
   "id": "af3210bd-a3d7-4735-96e3-a2d89ad44bd5",
   "metadata": {},
   "outputs": [],
   "source": [
    "# CSV einlesen mit robustem Parser\n",
    "df = pd.read_csv(\"Ladesaeulenregister_BNetzA_2025-05-07.CSV\", sep=';', encoding='ISO-8859-1', dtype=str)"
   ]
  },
  {
   "cell_type": "code",
   "execution_count": 140,
   "id": "497bf813-62d4-4c92-8a74-408e22975728",
   "metadata": {},
   "outputs": [],
   "source": [
    "# Nur relevante Spalten extrahieren\n",
    "df = df[[\"Breitengrad\", \"Längengrad\", \"Ort\", \"Straße\", \"Hausnummer\"]].copy()"
   ]
  },
  {
   "cell_type": "code",
   "execution_count": 141,
   "id": "f62292e6-5115-4443-9c7b-d2d82591067f",
   "metadata": {},
   "outputs": [],
   "source": [
    "# Fehlende Werte entfernen\n",
    "df = df.dropna(subset=[\"Breitengrad\", \"Längengrad\"])"
   ]
  },
  {
   "cell_type": "code",
   "execution_count": 142,
   "id": "fbc35b19-90fe-4705-905f-e4d6762f1f21",
   "metadata": {},
   "outputs": [],
   "source": [
    "# Funktion: Nur Werte behalten, die nur aus Ziffern und maximal einem Punkt bestehen\n",
    "def koordinaten_bereinigen(df):\n",
    "    def ist_gueltig(val):\n",
    "        val = str(val).replace('.', '')\n",
    "        return val.isdigit()\n",
    "\n",
    "    df = df[df[\"Breitengrad\"].apply(ist_gueltig)]\n",
    "    df = df[df[\"Längengrad\"].apply(ist_gueltig)]\n",
    "    return df\n",
    "\n",
    "df = koordinaten_bereinigen(df)"
   ]
  },
  {
   "cell_type": "code",
   "execution_count": 143,
   "id": "f5772952-9e81-4304-8692-246148eab88e",
   "metadata": {},
   "outputs": [],
   "source": [
    "# Formatierungsfunktionen\n",
    "def format_breitengrad(val):\n",
    "    val = str(val).replace('.', '')\n",
    "    val = val.ljust(8, '0')[:8]\n",
    "    return f\"{val[:-6]}.{val[-6:]}\"  # z.B. 51805270 → 51.805270\n",
    "\n",
    "def format_laengengrad(val):\n",
    "    val = str(val).replace('.', '')\n",
    "    if val.startswith(\"1\"):\n",
    "        val = val.ljust(8, '0')[:8]\n",
    "    else:\n",
    "        val = val.ljust(7, '0')[:7]\n",
    "    return f\"{val[:-6]}.{val[-6:]}\"  # z.B. 10332870 → 10.332870\n",
    "\n",
    "df[\"Breitengrad\"] = df[\"Breitengrad\"].apply(format_breitengrad)\n",
    "df[\"Längengrad\"] = df[\"Längengrad\"].apply(format_laengengrad)"
   ]
  },
  {
   "cell_type": "code",
   "execution_count": 144,
   "id": "e6f5f181-a64d-44d9-a00a-cd08efee9c18",
   "metadata": {},
   "outputs": [],
   "source": [
    "# Konvertieren in float\n",
    "df[\"Breitengrad\"] = df[\"Breitengrad\"].astype(float)\n",
    "df[\"Längengrad\"] = df[\"Längengrad\"].astype(float)"
   ]
  },
  {
   "cell_type": "code",
   "execution_count": 145,
   "id": "763421a2-5f7b-49ba-a04a-3029b722adc2",
   "metadata": {},
   "outputs": [
    {
     "name": "stdout",
     "output_type": "stream",
     "text": [
      "Aktuell verbleibende Datensätze: 88575\n"
     ]
    }
   ],
   "source": [
    "# Nur Koordinaten in Deutschland behalten\n",
    "df = df[\n",
    "    df[\"Breitengrad\"].between(47.0, 55.1) &\n",
    "    df[\"Längengrad\"].between(5.5, 15.5)\n",
    "]\n",
    "\n",
    "print(f\"Aktuell verbleibende Datensätze: {len(df)}\")"
   ]
  },
  {
   "cell_type": "code",
   "execution_count": 146,
   "id": "2e56ca9f-7fd8-445c-9933-3f70c4bc15e4",
   "metadata": {},
   "outputs": [],
   "source": [
    "# Karte erzeugen\n",
    "m = folium.Map(location=[51.1657, 10.4515], zoom_start=6)\n",
    "marker_cluster = MarkerCluster().add_to(m)"
   ]
  },
  {
   "cell_type": "code",
   "execution_count": 147,
   "id": "22d01d63-614d-4374-ab02-924b47b8274d",
   "metadata": {},
   "outputs": [],
   "source": [
    "# Marker hinzufügen (hier: max. 10.000 für Performance)\n",
    "for _, row in df.head(89000).iterrows():\n",
    "    popup_text = f\"{row.get('Ort', '')}, {row.get('Straße', '')} {row.get('Hausnummer', '')}\"\n",
    "    folium.Marker(\n",
    "        location=[row[\"Breitengrad\"], row[\"Längengrad\"]],\n",
    "        popup=popup_text\n",
    "    ).add_to(marker_cluster)"
   ]
  },
  {
   "cell_type": "code",
   "execution_count": 148,
   "id": "24b96d97-ae86-4780-b7b8-29146736b220",
   "metadata": {},
   "outputs": [],
   "source": [
    "# Karte speichern\n",
    "m.save(\"ladesaeulen_karte.html\")"
   ]
  }
 ],
 "metadata": {
  "kernelspec": {
   "display_name": "Python 3 (ipykernel)",
   "language": "python",
   "name": "python3"
  },
  "language_info": {
   "codemirror_mode": {
    "name": "ipython",
    "version": 3
   },
   "file_extension": ".py",
   "mimetype": "text/x-python",
   "name": "python",
   "nbconvert_exporter": "python",
   "pygments_lexer": "ipython3",
   "version": "3.13.2"
  }
 },
 "nbformat": 4,
 "nbformat_minor": 5
}
