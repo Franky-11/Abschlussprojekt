{
 "cells": [
  {
   "cell_type": "code",
   "execution_count": 20,
   "id": "7bbfd212-458a-47f8-b538-7e7ea97afa34",
   "metadata": {},
   "outputs": [],
   "source": [
    "import streamlit as st\n",
    "import pandas as pd\n",
    "import folium as fol\n",
    "from streamlit_folium import st_folium\n",
    "from folium.plugins import MarkerCluster"
   ]
  },
  {
   "cell_type": "code",
   "execution_count": 24,
   "id": "af3210bd-a3d7-4735-96e3-a2d89ad44bd5",
   "metadata": {},
   "outputs": [],
   "source": [
    "# CSV einlesen mit robustem Parser\n",
    "df = pd.read_csv(\"C:/Users/PC/Desktop/Abschlussprojekt/data/electric_vehicles/Ladesaeulenregister_BNetzA.CSV\", sep=';', encoding='ISO-8859-1', dtype=str)"
   ]
  },
  {
   "cell_type": "code",
   "execution_count": 25,
   "id": "625978e3-fdee-48f5-bfc5-6b1fd5c16100",
   "metadata": {},
   "outputs": [],
   "source": [
    "relevante_spalten = [\"Breitengrad\", \"Längengrad\", \"Ort\", \"Straße\", \"Hausnummer\", \"Art der Ladeeinrichtung\"]"
   ]
  },
  {
   "cell_type": "code",
   "execution_count": 26,
   "id": "f62292e6-5115-4443-9c7b-d2d82591067f",
   "metadata": {},
   "outputs": [],
   "source": [
    "# Fehlende Werte entfernen\n",
    "df = df[relevante_spalten].dropna(subset=[\"Breitengrad\", \"Längengrad\"])"
   ]
  },
  {
   "cell_type": "code",
   "execution_count": 27,
   "id": "fbc35b19-90fe-4705-905f-e4d6762f1f21",
   "metadata": {},
   "outputs": [],
   "source": [
    "# Funktion: Nur Werte behalten, die nur aus Ziffern und maximal einem Punkt bestehen\n",
    "def koordinaten_bereinigen(df):\n",
    "    def ist_gueltig(val):\n",
    "        val = str(val).replace('.', '')\n",
    "        return val.isdigit()\n",
    "    \n",
    "    def format_breitengrad(val):\n",
    "        val = str(val).replace('.', '')\n",
    "        val = val.ljust(8, '0')[:8]\n",
    "        return f\"{val[:-6]}.{val[-6:]}\"  # z.B. 51805270 → 51.805270\n",
    "\n",
    "    def format_laengengrad(val):\n",
    "        val = str(val).replace('.', '')\n",
    "        if val.startswith(\"1\"):\n",
    "            val = val.ljust(8, '0')[:8]\n",
    "        else:\n",
    "            val = val.ljust(7, '0')[:7]\n",
    "        return f\"{val[:-6]}.{val[-6:]}\"  # z.B. 10332870 → 10.332870\n",
    "    \n",
    "    df = df[df[\"Breitengrad\"].apply(ist_gueltig)]\n",
    "    df = df[df[\"Längengrad\"].apply(ist_gueltig)]\n",
    "\n",
    "    df[\"Breitengrad\"] = df[\"Breitengrad\"].apply(format_breitengrad).astype(float)\n",
    "    df[\"Längengrad\"] = df[\"Längengrad\"].apply(format_laengengrad).astype(float)\n",
    "    \n",
    "    return df\n",
    "\n",
    "df = koordinaten_bereinigen(df)"
   ]
  },
  {
   "cell_type": "code",
   "execution_count": 28,
   "id": "763421a2-5f7b-49ba-a04a-3029b722adc2",
   "metadata": {},
   "outputs": [
    {
     "name": "stdout",
     "output_type": "stream",
     "text": [
      "Aktuell verbleibende Datensätze: 88575\n"
     ]
    }
   ],
   "source": [
    "# Nur Koordinaten in Deutschland behalten\n",
    "df = df[\n",
    "    df[\"Breitengrad\"].between(47.0, 55.1) &\n",
    "    df[\"Längengrad\"].between(5.5, 15.5)\n",
    "]\n",
    "\n",
    "print(f\"Aktuell verbleibende Datensätze: {len(df)}\")"
   ]
  },
  {
   "cell_type": "code",
   "execution_count": 30,
   "id": "2e56ca9f-7fd8-445c-9933-3f70c4bc15e4",
   "metadata": {},
   "outputs": [],
   "source": [
    "# Karte erzeugen\n",
    "m = fol.Map(location=[51.1657, 10.4515], zoom_start=6)\n",
    "marker_cluster = MarkerCluster().add_to(m)"
   ]
  },
  {
   "cell_type": "code",
   "execution_count": 33,
   "id": "22d01d63-614d-4374-ab02-924b47b8274d",
   "metadata": {},
   "outputs": [],
   "source": [
    "# Marker hinzufügen (hier: max. 10.000 für Performance)\n",
    "for _, row in df.head(89000).iterrows():\n",
    "    popup_text = f\"{row.get('Ort', '')}, {row.get('Straße', '')} {row.get('Hausnummer', '')}\"\n",
    "    fol.Marker(\n",
    "        location=[row[\"Breitengrad\"], row[\"Längengrad\"]],\n",
    "        popup=popup_text\n",
    "    ).add_to(marker_cluster)"
   ]
  },
  {
   "cell_type": "code",
   "execution_count": 34,
   "id": "24b96d97-ae86-4780-b7b8-29146736b220",
   "metadata": {},
   "outputs": [
    {
     "name": "stderr",
     "output_type": "stream",
     "text": [
      "2025-06-03 22:19:30.591 Thread 'MainThread': missing ScriptRunContext! This warning can be ignored when running in bare mode.\n",
      "2025-06-03 22:19:30.592 Thread 'MainThread': missing ScriptRunContext! This warning can be ignored when running in bare mode.\n",
      "2025-06-03 22:19:30.603 Thread 'MainThread': missing ScriptRunContext! This warning can be ignored when running in bare mode.\n",
      "2025-06-03 22:19:30.617 Thread 'MainThread': missing ScriptRunContext! This warning can be ignored when running in bare mode.\n"
     ]
    },
    {
     "data": {
      "text/plain": [
       "{'last_clicked': None,\n",
       " 'last_object_clicked': None,\n",
       " 'last_object_clicked_tooltip': None,\n",
       " 'last_object_clicked_popup': None,\n",
       " 'all_drawings': None,\n",
       " 'last_active_drawing': None,\n",
       " 'bounds': {'_southWest': {'lat': 47.352641, 'lng': 5.895952},\n",
       "  '_northEast': {'lat': 55.0196, 'lng': 14.999334}},\n",
       " 'zoom': 6,\n",
       " 'last_circle_radius': None,\n",
       " 'last_circle_polygon': None,\n",
       " 'selected_layers': None}"
      ]
     },
     "execution_count": 34,
     "metadata": {},
     "output_type": "execute_result"
    }
   ],
   "source": [
    "# Karte speichern\n",
    "st_folium(m, width=800, height=600)"
   ]
  },
  {
   "cell_type": "code",
   "execution_count": null,
   "id": "06aa2883-a884-43de-b789-2f210a6f6f3e",
   "metadata": {},
   "outputs": [],
   "source": []
  },
  {
   "cell_type": "code",
   "execution_count": null,
   "id": "b009b647-7fcb-4ba9-8608-83dadf38f68a",
   "metadata": {},
   "outputs": [],
   "source": [
    "# zum ausführen muss die folgende Bibliothek installiert werden\n",
    "# pip install streamlit folium streamlit-folium pandas"
   ]
  }
 ],
 "metadata": {
  "kernelspec": {
   "display_name": "Python 3 (ipykernel)",
   "language": "python",
   "name": "python3"
  },
  "language_info": {
   "codemirror_mode": {
    "name": "ipython",
    "version": 3
   },
   "file_extension": ".py",
   "mimetype": "text/x-python",
   "name": "python",
   "nbconvert_exporter": "python",
   "pygments_lexer": "ipython3",
   "version": "3.13.2"
  }
 },
 "nbformat": 4,
 "nbformat_minor": 5
}
