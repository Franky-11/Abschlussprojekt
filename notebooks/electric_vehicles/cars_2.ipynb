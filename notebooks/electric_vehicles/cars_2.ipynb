{
 "cells": [
  {
   "cell_type": "code",
   "execution_count": null,
   "id": "4cd45ede-03a2-4a06-b508-753e9eeb67bd",
   "metadata": {},
   "outputs": [],
   "source": [
    "import json\n",
    "import pprint\n",
    "import pandas as pd\n",
    "import plotly.express as px"
   ]
  },
  {
   "cell_type": "code",
   "execution_count": null,
   "id": "39d0d893-1ebe-45aa-b9f7-06f4acffa7af",
   "metadata": {},
   "outputs": [],
   "source": [
    "try:\n",
    "    with open('bundeslaender.geojson', 'r', encoding='utf-8') as f:\n",
    "        geojson_bundeslaender = json.load(f)\n",
    "    print(\"GeoJSON-Datei erfolgreich geladen.\")\n",
    "except FileNotFoundError:\n",
    "    print(\"Fehler: 'bundeslaender.geojson' nicht gefunden. Bitte den korrekten Pfad angeben.\")"
   ]
  },
  {
   "cell_type": "code",
   "execution_count": null,
   "id": "e6a35524-671a-4de6-a1d8-988e15b6ed01",
   "metadata": {},
   "outputs": [],
   "source": [
    "#'properties': {'id': 500496,\n",
    "  #  'schluessel': '06',\n",
    "    #'gen': 'Hessen',\n",
    "    #'jahr': 2023,\n",
    "\n",
    "#geojson_bundeslaender\n"
   ]
  },
  {
   "cell_type": "code",
   "execution_count": null,
   "id": "3ebb0939-32c4-480c-abda-57ce60239b36",
   "metadata": {},
   "outputs": [],
   "source": [
    "geojson_bundeslaender.keys()"
   ]
  },
  {
   "cell_type": "code",
   "execution_count": null,
   "id": "c5c380c2-3cba-461d-95c5-80332092f9e5",
   "metadata": {},
   "outputs": [],
   "source": [
    "#featureidkey = 'schluessel' in plotly\n",
    "#location im df = 'schluessel'\n",
    "\n",
    "schluessel=[]\n",
    "bundesland=[]\n",
    "for land in geojson_bundeslaender['features']:\n",
    "    schluessel.append(land['properties']['schluessel'])\n",
    "    bundesland.append(land['properties'][\"gen\"])"
   ]
  },
  {
   "cell_type": "code",
   "execution_count": null,
   "id": "bf303ad8-b913-45ee-bd76-e0fd6254cf3b",
   "metadata": {},
   "outputs": [],
   "source": [
    "schluessel"
   ]
  },
  {
   "cell_type": "code",
   "execution_count": null,
   "id": "29986e95-ff6d-484b-b6c1-daeb79abf48d",
   "metadata": {},
   "outputs": [],
   "source": [
    "len(geojson_bundeslaender['features'])"
   ]
  },
  {
   "cell_type": "code",
   "execution_count": null,
   "id": "f9c3f629-bbfd-4db4-b9b8-fb97e865bae2",
   "metadata": {},
   "outputs": [],
   "source": [
    "bundesland\n"
   ]
  },
  {
   "cell_type": "code",
   "execution_count": null,
   "id": "5f4074bc-8792-432f-9f55-20dc3d79160d",
   "metadata": {},
   "outputs": [],
   "source": [
    "df=pd.DataFrame({\"Bundesland\":bundesland,\"schluessel\":schluessel})\n"
   ]
  },
  {
   "cell_type": "code",
   "execution_count": null,
   "id": "a30808e2-13fe-4d32-8c39-0dc239ce50c1",
   "metadata": {},
   "outputs": [],
   "source": [
    "df"
   ]
  },
  {
   "cell_type": "code",
   "execution_count": null,
   "id": "20486f28-0366-473e-b1cb-d4eb9d697e43",
   "metadata": {},
   "outputs": [],
   "source": [
    "df.info()"
   ]
  },
  {
   "cell_type": "code",
   "execution_count": null,
   "id": "710aa09a-0690-4c47-b400-3b1c9fd1f1ee",
   "metadata": {},
   "outputs": [],
   "source": [
    "import json\n",
    "import fiona\n",
    "from shapely.geometry import shape, mapping, Polygon, MultiPolygon\n",
    "from fiona.crs import from_epsg\n",
    "from pyproj import Transformer"
   ]
  },
  {
   "cell_type": "code",
   "execution_count": null,
   "id": "4f36a5d9-0499-4c06-80a4-e66e4bff0278",
   "metadata": {},
   "outputs": [],
   "source": [
    "# Umwandlung GEOjson in passendes Format"
   ]
  },
  {
   "cell_type": "code",
   "execution_count": null,
   "id": "0ab32595-870d-4dd7-a3d7-5427a99ba193",
   "metadata": {},
   "outputs": [],
   "source": [
    "input_geojson_path = 'bundeslaender.geojson'  # <-- HIER DEN KORREKTEN NAMEN IHRER DATEI EINSETZEN\n",
    "output_geojson_path = 'bundeslaender_wgs84.geojson' # Die neue Datei im WGS84-Format\n",
    "\n",
    "try:\n",
    "    with fiona.open(input_geojson_path, 'r') as source:\n",
    "        source_crs = source.crs\n",
    "        print(f\"Original CRS: {source_crs}\")\n",
    "\n",
    "        target_crs = from_epsg(4326) # EPSG:4326 for WGS84 (lat/lon)\n",
    "        print(f\"Ziel CRS: {target_crs}\")\n",
    "\n",
    "        # Pyproj Transformer für die Umwandlung\n",
    "        # always_xy=True stellt sicher, dass die Reihenfolge der Koordinaten (lon, lat) ist,\n",
    "        # was für GeoJSON und den späteren Plotly-Gebrauch wichtig ist.\n",
    "        transformer = Transformer.from_crs(source_crs, target_crs, always_xy=True)\n",
    "\n",
    "        new_schema = source.schema\n",
    "        # Der Geometrie-Typ sollte im Schema korrekt übernommen werden,\n",
    "        # aber stellen Sie sicher, dass er mit dem übereinstimmt, was Sie transformieren.\n",
    "        # Beispiel: new_schema['geometry'] = 'MultiPolygon' wenn die gesamte Datei nur Multipolygone hat.\n",
    "        # Wenn es eine Mischung ist, ist source.schema['geometry'] oft 'Unknown' oder 'GeometryCollection',\n",
    "        # was ok ist, da wir die spezifischen Typen behandeln.\n",
    "\n",
    "        with fiona.open(\n",
    "            output_geojson_path,\n",
    "            'w',\n",
    "            driver='GeoJSON',\n",
    "            crs=target_crs,\n",
    "            schema=new_schema\n",
    "        ) as sink:\n",
    "            for feature in source:\n",
    "                geom = shape(feature['geometry'])\n",
    "                transformed_geom = None\n",
    "\n",
    "                # Funktion zum Transformieren der Koordinaten eines Rings\n",
    "                def transform_coords(coords):\n",
    "                    return [transformer.transform(x, y) for x, y in coords]\n",
    "\n",
    "                if geom.geom_type == 'Polygon':\n",
    "                    # Transformiere Exterior und alle Interior rings\n",
    "                    exterior_coords = transform_coords(geom.exterior.coords)\n",
    "                    interior_coords_list = [transform_coords(interior.coords) for interior in geom.interiors]\n",
    "                    transformed_geom = Polygon(exterior_coords, interior_coords_list)\n",
    "\n",
    "                elif geom.geom_type == 'MultiPolygon':\n",
    "                    transformed_polygons = []\n",
    "                    for poly in geom.geoms: # Iteriere durch die einzelnen Polygone im MultiPolygon\n",
    "                        exterior_coords = transform_coords(poly.exterior.coords)\n",
    "                        interior_coords_list = [transform_coords(interior.coords) for interior in poly.interiors]\n",
    "                        transformed_polygons.append(Polygon(exterior_coords, interior_coords_list))\n",
    "                    \n",
    "                    transformed_geom = MultiPolygon(transformed_polygons)\n",
    "\n",
    "                elif geom.geom_type in ['Point', 'LineString', 'MultiPoint', 'MultiLineString', 'GeometryCollection']:\n",
    "                    # Optional: Handhabung für andere Geometrie-Typen, falls sie in Ihrer Datei vorkommen\n",
    "                    # Hier ist es am besten, die Transformation über mapping(geom.transform(transformer.transform)) zu versuchen\n",
    "                    # oder eine spezifische Logik zu implementieren. Für Bundesländer sind aber Polygon/MultiPolygon am relevantesten.\n",
    "                    print(f\"Info: Geometrie-Typ '{geom.geom_type}' für Feature ID {feature.get('id', 'N/A')} gefunden. Falls dies nicht ein Polygon/MultiPolygon ist, könnte es eine speziellere Transformation benötigen.\")\n",
    "                    # Für dieses Beispiel überspringen wir Nicht-Polygon-Typen, um den Fokus zu behalten.\n",
    "                    continue\n",
    "                else:\n",
    "                    print(f\"Warnung: Unbekannter Geometrie-Typ '{geom.geom_type}' für Feature ID {feature.get('id', 'N/A')}. Überspringe Feature.\")\n",
    "                    continue # Überspringe dieses Feature, wenn der Typ nicht Polygon/MultiPolygon ist\n",
    "\n",
    "                # Feature mit der neuen Geometrie schreiben\n",
    "                if transformed_geom:\n",
    "                    sink.write({\n",
    "                        'geometry': mapping(transformed_geom),\n",
    "                        'properties': feature['properties']\n",
    "                    })\n",
    "    print(f\"GeoJSON erfolgreich nach WGS84 umgewandelt und gespeichert als: {output_geojson_path}\")\n",
    "\n",
    "except FileNotFoundError:\n",
    "    print(f\"Fehler: Die Datei '{input_geojson_path}' wurde nicht gefunden.\")\n",
    "    print(\"Bitte stellen Sie sicher, dass der Pfad korrekt ist.\")\n",
    "except Exception as e:\n",
    "    print(f\"Ein unerwarteter Fehler ist aufgetreten während der Reprojektion: {e}\")\n",
    "    # Zusätzliche Debug-Info\n",
    "    import traceback\n",
    "    traceback.print_exc()\n"
   ]
  },
  {
   "cell_type": "code",
   "execution_count": null,
   "id": "4c60fc8a-d8de-4dbf-95a3-fef15e58b69a",
   "metadata": {},
   "outputs": [],
   "source": []
  },
  {
   "cell_type": "code",
   "execution_count": null,
   "id": "9332f13b-9fec-4619-b0ec-edf6ea2db046",
   "metadata": {},
   "outputs": [],
   "source": [
    "df_2=pd.read_csv(\"../../data/electric_vehicles/bestand_bland.csv\",delimiter=\";\",dtype={\"schluessel\":\"str\"})"
   ]
  },
  {
   "cell_type": "code",
   "execution_count": null,
   "id": "4d8bbf53-4a15-4e83-bd34-281629fea1ad",
   "metadata": {},
   "outputs": [],
   "source": [
    "df_2.info()"
   ]
  },
  {
   "cell_type": "code",
   "execution_count": null,
   "id": "482b8180-b287-4f36-831c-d55b14bb3cc3",
   "metadata": {},
   "outputs": [],
   "source": [
    "df_2"
   ]
  },
  {
   "cell_type": "code",
   "execution_count": null,
   "id": "73b053cc-e87b-41b6-9a2f-0142aec4e79b",
   "metadata": {},
   "outputs": [],
   "source": [
    "df_3=pd.merge(df,df_2,on=\"schluessel\")"
   ]
  },
  {
   "cell_type": "code",
   "execution_count": null,
   "id": "a9058352-694e-4221-aba8-ff2b77bbe624",
   "metadata": {},
   "outputs": [],
   "source": [
    "df_3\n",
    "print(df_3.columns)"
   ]
  },
  {
   "cell_type": "code",
   "execution_count": null,
   "id": "b815dc23-97e7-4f0c-bb83-3a5a92f42130",
   "metadata": {},
   "outputs": [],
   "source": []
  },
  {
   "cell_type": "code",
   "execution_count": null,
   "id": "ef9796c6-7605-4efc-af11-c15880658740",
   "metadata": {},
   "outputs": [],
   "source": [
    "df_3.rename(columns={\"sun_cars\":\"sum_cars\"},inplace=True)"
   ]
  },
  {
   "cell_type": "code",
   "execution_count": null,
   "id": "05de3065-48de-4d3f-9d08-b1661aa9b365",
   "metadata": {},
   "outputs": [],
   "source": [
    "df_3.head()"
   ]
  },
  {
   "cell_type": "code",
   "execution_count": null,
   "id": "091c37ad-b0b1-4b97-a8f6-79f8d620d81f",
   "metadata": {},
   "outputs": [],
   "source": [
    "df_3.to_csv(\"../../data/electric_vehicles/bestand_bland_processed.csv\")"
   ]
  },
  {
   "cell_type": "code",
   "execution_count": null,
   "id": "b3d04add-af08-46bf-9576-b2588327c0d6",
   "metadata": {},
   "outputs": [],
   "source": []
  },
  {
   "cell_type": "code",
   "execution_count": null,
   "id": "1771cc54-76bb-4056-8f5a-81eb24c9f8ac",
   "metadata": {},
   "outputs": [],
   "source": [
    "with open('bundeslaender_wgs84.geojson', 'r', encoding='utf-8') as f:\n",
    "    geojson_bundeslaender_wgs84 = json.load(f)\n",
    "    print(\"Konvertierte GeoJSON-Datei 'bundeslaender_wgs84.geojson' erfolgreich geladen.\")"
   ]
  },
  {
   "cell_type": "code",
   "execution_count": null,
   "id": "e28e7e77-8aa1-4068-80e5-ec865b329184",
   "metadata": {},
   "outputs": [],
   "source": [
    "fig = px.choropleth_map(df_3,\n",
    "                           geojson=geojson_bundeslaender_wgs84, # Die konvertierte GeoJSON-Datei\n",
    "                           locations=\"schluessel\", # Spalte im DataFrame, die den 2-stelligen Schlüssel enthält\n",
    "                           featureidkey=\"properties.schluessel\", # Pfad zum 'schluessel' im GeoJSON-Feature\n",
    "                                                                 # (wie in Ihrer GeoJSON-Struktur gesehen: 'properties': {'schluessel': '06', ...})\n",
    "                           color=\"sum_cars\",               # Spalte, die die Farbe der Region bestimmt\n",
    "                           color_continuous_scale=\"Blues\",  # Farbskala (z.B. \"Viridis\", \"Plasma\", \"Jet\", \"Greens\", \"Blues\")\n",
    "                           range_color=(df_3[\"sum_cars\"].min(), df_3[\"sum_cars\"].max()), # Stellen Sie sicher, dass die Farbskala die volle Bandbreite abdeckt\n",
    "                          # mapbox_style=\"carto-positron\",     # Basiskarte (z.B. \"open-street-map\", \"carto-positron\", \"stamen-terrain\")\n",
    "                           zoom=4.5,                          # Zoom-Level für Deutschland (ca. 4.5 - 5.5)\n",
    "                           center={\"lat\": 51.0, \"lon\": 10.0}, # Zentraler Punkt für Deutschland\n",
    "                           opacity=0.8,                       # Deckkraft der eingefärbten Regionen\n",
    "                           hover_name=\"Bundesland\",      # Was im Tooltip als Haupttitel angezeigt wird\n",
    "                           hover_data={'sum_cars': ':.0f'}, # Optional: Formatiert die Anzeige der PKW_Bestand im Tooltip (als ganze Zahl)\n",
    "                           title=\"PKW-Bestand pro Bundesland in Deutschland\" # Titel der Karte\n",
    "                          )\n",
    "\n",
    "\n",
    "fig.show()\n"
   ]
  },
  {
   "cell_type": "code",
   "execution_count": null,
   "id": "ea6c6038-c568-42e3-ae89-2f6bae6ce15b",
   "metadata": {},
   "outputs": [],
   "source": []
  },
  {
   "cell_type": "code",
   "execution_count": null,
   "id": "fe2a119a-ad14-4cbd-b6b3-173085b51e6b",
   "metadata": {},
   "outputs": [],
   "source": [
    "df=pd.read_csv(\"../../data/electric_vehicles/bestand_bland_processed.csv\")"
   ]
  },
  {
   "cell_type": "code",
   "execution_count": null,
   "id": "a44e1ccf-e611-4b27-8864-9137452c813f",
   "metadata": {},
   "outputs": [],
   "source": [
    "df[\"schluessel\"]=df[\"schluessel\"].map({1:\"01\",2:\"02\",3:\"03\",4:\"04\",5:\"05\",6:\"06\",7:\"07\",8:\"08\",9:\"09\",10:\"10\",11:\"11\",12:\"12\",13:\"13\",14:\"14\",15:\"15\",16:\"16\"})"
   ]
  },
  {
   "cell_type": "code",
   "execution_count": null,
   "id": "4e9c0756-4a14-433c-8722-c9a93743fa79",
   "metadata": {},
   "outputs": [],
   "source": [
    "df"
   ]
  },
  {
   "cell_type": "code",
   "execution_count": null,
   "id": "3882b881-8609-4f84-a9ab-792b081cc1ce",
   "metadata": {},
   "outputs": [],
   "source": [
    "df[\"% BEV\"]=(df[\"e_cars\"]/df[\"sum_cars\"])*100"
   ]
  },
  {
   "cell_type": "code",
   "execution_count": null,
   "id": "8ab99f40-a998-406d-aee1-3b2788051641",
   "metadata": {},
   "outputs": [],
   "source": [
    "fig = px.choropleth_map(df,\n",
    "                           geojson=geojson_bundeslaender_wgs84, # Die konvertierte GeoJSON-Datei\n",
    "                           locations=\"schluessel\", # Spalte im DataFrame, die den 2-stelligen Schlüssel enthält\n",
    "                           featureidkey=\"properties.schluessel\", # Pfad zum 'schluessel' im GeoJSON-Feature\n",
    "                                                                 # (wie in Ihrer GeoJSON-Struktur gesehen: 'properties': {'schluessel': '06', ...})\n",
    "                           color=\"% BEV\",               # Spalte, die die Farbe der Region bestimmt\n",
    "                           color_continuous_scale=\"Blues\",  # Farbskala (z.B. \"Viridis\", \"Plasma\", \"Jet\", \"Greens\", \"Blues\")\n",
    "                           range_color=(df[\"% BEV\"].min(), df[\"% BEV\"].max()), # Stellen Sie sicher, dass die Farbskala die volle Bandbreite abdeckt\n",
    "                          # mapbox_style=\"carto-positron\",     # Basiskarte (z.B. \"open-street-map\", \"carto-positron\", \"stamen-terrain\")\n",
    "                           zoom=5,                          # Zoom-Level für Deutschland (ca. 4.5 - 5.5)\n",
    "                           center={\"lat\": 51.0, \"lon\": 10.0}, # Zentraler Punkt für Deutschland\n",
    "                           opacity=0.8,                       # Deckkraft der eingefärbten Regionen\n",
    "                           hover_name=\"Bundesland\",      # Was im Tooltip als Haupttitel angezeigt wird\n",
    "                           hover_data={'% BEV': ':.1f','schluessel': False}, # Optional: Formatiert die Anzeige der PKW_Bestand im Tooltip (als ganze Zahl)\n",
    "                           #title=\"PKW-Bestand pro Bundesland in Deutschland\" # Titel der Karte\n",
    "                          )\n",
    "\n",
    "\n",
    "fig.show()"
   ]
  },
  {
   "cell_type": "code",
   "execution_count": null,
   "id": "c5aad5de-15ec-46fe-b2b7-74fda2391058",
   "metadata": {},
   "outputs": [],
   "source": [
    "df_cars=df[[\"Bundesland\",\"schluessel\",\"sum_cars\",\"e_cars\",\"% BEV\"]]"
   ]
  },
  {
   "cell_type": "code",
   "execution_count": null,
   "id": "21abcf93-12ae-479c-a44d-9ee06af007c1",
   "metadata": {},
   "outputs": [],
   "source": [
    "df_cars_sorted=df_cars.sort_values(by=\"% BEV\",ascending=False)"
   ]
  },
  {
   "cell_type": "code",
   "execution_count": null,
   "id": "afc8955a-18e7-4917-83d1-f02461c0cb4f",
   "metadata": {},
   "outputs": [],
   "source": [
    "df_cars_sorted.head(5)"
   ]
  },
  {
   "cell_type": "code",
   "execution_count": null,
   "id": "1ac6f50b-1a3d-4b3b-9695-b6a2ee2658e4",
   "metadata": {},
   "outputs": [],
   "source": [
    "df_cars_sorted.columns=[\"Bundesland\",\"schluessel\",\"PKW_Gesamt\",\"Anzahl_BEV\",\"Anteil_BEV\"]"
   ]
  },
  {
   "cell_type": "code",
   "execution_count": null,
   "id": "8b8d20b1-5078-4050-9430-47bcf1883396",
   "metadata": {},
   "outputs": [],
   "source": [
    "df_cars_sorted[\"Anteil_BEV\"]=df_cars_sorted[\"Anteil_BEV\"].round(2)"
   ]
  },
  {
   "cell_type": "code",
   "execution_count": null,
   "id": "20b998c6-522a-4298-a579-2e9906c1dacf",
   "metadata": {},
   "outputs": [],
   "source": [
    "df_cars_sorted"
   ]
  },
  {
   "cell_type": "code",
   "execution_count": null,
   "id": "3f9f4a62-6c4a-420e-b87f-ee546b796b26",
   "metadata": {},
   "outputs": [],
   "source": [
    "df_bev=pd.read_csv(\"../../data/electric_vehicles/Bevoelkerung_Bundeslaender.csv\",delimiter=\";\",encoding='latin-1')"
   ]
  },
  {
   "cell_type": "code",
   "execution_count": null,
   "id": "84bd228a-38c6-4434-b7e9-7f617a4f7f62",
   "metadata": {},
   "outputs": [],
   "source": [
    "df_bev"
   ]
  },
  {
   "cell_type": "code",
   "execution_count": null,
   "id": "088d4361-a0d5-411e-b18b-c525f7eace5a",
   "metadata": {},
   "outputs": [],
   "source": [
    "list1=df_cars_sorted[\"Bundesland\"].to_list()\n",
    "list2=df_bev[\"Bundesland\"].to_list()"
   ]
  },
  {
   "cell_type": "code",
   "execution_count": null,
   "id": "431a397c-a4d9-40cb-9ea9-a40ee5c78968",
   "metadata": {},
   "outputs": [],
   "source": [
    "check=[1 if land in list2 else 0 for land in list1]\n",
    "all(check)       \n",
    "    "
   ]
  },
  {
   "cell_type": "code",
   "execution_count": null,
   "id": "a852eaf1-16b3-4b8f-9d5f-93716382b681",
   "metadata": {},
   "outputs": [],
   "source": [
    "df_new=pd.merge(df_cars_sorted,df_bev,how=\"left\",on=\"Bundesland\")"
   ]
  },
  {
   "cell_type": "code",
   "execution_count": null,
   "id": "511becf6-3b13-484d-9818-61bde53a3721",
   "metadata": {},
   "outputs": [],
   "source": [
    "df_new"
   ]
  },
  {
   "cell_type": "code",
   "execution_count": null,
   "id": "926c5c5c-0d0e-4193-b5e4-45f40297e7b0",
   "metadata": {},
   "outputs": [],
   "source": [
    "df_new[\"BEV_pro_1000_Einwohner\"]=(df_new[\"Anzahl_BEV\"]/df_new[\"Einwohner\"])*1000"
   ]
  },
  {
   "cell_type": "code",
   "execution_count": null,
   "id": "fcc08cf3-e24b-493b-ade3-619d624582ca",
   "metadata": {},
   "outputs": [],
   "source": [
    "df_new[\"BEV_pro_1000_qkm\"]=(df_new[\"Anzahl_BEV\"]/df_new[\"Flaeche\"])*1000"
   ]
  },
  {
   "cell_type": "code",
   "execution_count": null,
   "id": "3fa5de7b-7962-42c5-93b8-855fdd4a4e19",
   "metadata": {},
   "outputs": [],
   "source": [
    "df_new.to_csv(\"../../data/electric_vehicles/Anteil_BEV.csv\",index=False)"
   ]
  },
  {
   "cell_type": "code",
   "execution_count": null,
   "id": "9ea6644b-6943-455e-b6a1-ff2c00716b93",
   "metadata": {},
   "outputs": [],
   "source": [
    "df_test=pd.read_csv(\"../../data/electric_vehicles/Anteil_BEV.csv\")"
   ]
  },
  {
   "cell_type": "code",
   "execution_count": null,
   "id": "92f4ebd6-86eb-45f8-af4d-bee10f0e5a02",
   "metadata": {},
   "outputs": [],
   "source": [
    "df_test"
   ]
  },
  {
   "cell_type": "code",
   "execution_count": null,
   "id": "c67478bc-1bc0-4df0-aa77-2589830f8068",
   "metadata": {},
   "outputs": [],
   "source": [
    "df_test['schluessel'] = df_test['schluessel'].astype(str).str.zfill(2)"
   ]
  },
  {
   "cell_type": "code",
   "execution_count": null,
   "id": "9d27f21f-7b5f-4534-a0af-f729382f26a6",
   "metadata": {},
   "outputs": [],
   "source": [
    "df_test"
   ]
  },
  {
   "cell_type": "code",
   "execution_count": null,
   "id": "5427272e-34eb-4a0f-836f-ec866ecd0e7a",
   "metadata": {},
   "outputs": [],
   "source": [
    "fig = px.choropleth_map(df_test,\n",
    "                           geojson=geojson_bundeslaender_wgs84, # Die konvertierte GeoJSON-Datei\n",
    "                           locations=\"schluessel\", # Spalte im DataFrame, die den 2-stelligen Schlüssel enthält\n",
    "                           featureidkey=\"properties.schluessel\", # Pfad zum 'schluessel' im GeoJSON-Feature\n",
    "                                                                 # (wie in Ihrer GeoJSON-Struktur gesehen: 'properties': {'schluessel': '06', ...})\n",
    "                           color=\"BEV_pro_1000_Einwohner\",               # Spalte, die die Farbe der Region bestimmt\n",
    "                           color_continuous_scale=\"Blues\",  # Farbskala (z.B. \"Viridis\", \"Plasma\", \"Jet\", \"Greens\", \"Blues\")\n",
    "                           range_color=(df_test[\"BEV_pro_1000_Einwohner\"].min(), df_test[\"BEV_pro_1000_Einwohner\"].max()), # Stellen Sie sicher, dass die Farbskala die volle Bandbreite abdeckt\n",
    "                          # mapbox_style=\"carto-positron\",     # Basiskarte (z.B. \"open-street-map\", \"carto-positron\", \"stamen-terrain\")\n",
    "                           zoom=5,                          # Zoom-Level für Deutschland (ca. 4.5 - 5.5)\n",
    "                           center={\"lat\": 51.0, \"lon\": 10.0}, # Zentraler Punkt für Deutschland\n",
    "                           opacity=0.8,                       # Deckkraft der eingefärbten Regionen\n",
    "                           hover_name=\"Bundesland\",      # Was im Tooltip als Haupttitel angezeigt wird\n",
    "                           hover_data={'BEV_pro_1000_Einwohner': ':.0f','schluessel': False,\"Anteil_BEV\":':.1f',\"PKW_Gesamt\":\":,.0f\"}, # Optional: Formatiert die Anzeige der PKW_Bestand im Tooltip (als ganze Zahl)\n",
    "                           #title=\"PKW-Bestand pro Bundesland in Deutschland\" # Titel der Karte\n",
    "                          )\n",
    "\n",
    "\n",
    "fig.show()"
   ]
  },
  {
   "cell_type": "code",
   "execution_count": null,
   "id": "94fd1a63-3398-4a1e-84bd-36d6c7d0372d",
   "metadata": {},
   "outputs": [],
   "source": [
    "# Beispiel für Scatter Plot\n",
    "fig_scatter = px.scatter(df_new, x='BEV_pro_1000_Einwohner', y='Anteil_BEV',\n",
    "                         text='Bundesland',\n",
    "                          title='Anteil BEV vs. BEV pro 1000 Einwohner')\n",
    "fig_scatter.update_traces(textposition='top center') # Optional: Bundesland-Label über den Punkten\n",
    "fig_scatter.show()"
   ]
  },
  {
   "cell_type": "code",
   "execution_count": null,
   "id": "36ac67a1-526a-4e9f-8738-5659129e7d2f",
   "metadata": {},
   "outputs": [],
   "source": [
    "# umwandel in long format zu besseren visualisierung\n",
    "df_new.columns"
   ]
  },
  {
   "cell_type": "code",
   "execution_count": null,
   "id": "ed440380-ede9-4acb-82bc-727baf96160a",
   "metadata": {},
   "outputs": [],
   "source": [
    "value_vars = ['PKW_Gesamt', 'Anzahl_BEV', 'Anteil_BEV',\"BEV_pro_1000_Einwohner\",'BEV_pro_1000_qkm']\n",
    "\n",
    "# Die Spalte, die beibehalten werden soll (Identifikator)\n",
    "id_vars = ['Bundesland']\n",
    "\n",
    "df_long = pd.melt(df_new,\n",
    "                  id_vars=id_vars,\n",
    "                  value_vars=value_vars,\n",
    "                  var_name='Kennzahl',  # Name für die neue Spalte, die die ursprünglichen Spaltennamen enthält\n",
    "                  value_name='Wert')    # Name für die neue Spalte, die die Werte enthält"
   ]
  },
  {
   "cell_type": "code",
   "execution_count": null,
   "id": "796a1576-9d40-4917-8a3b-d8763a00eb97",
   "metadata": {},
   "outputs": [],
   "source": [
    "df_long.head()"
   ]
  },
  {
   "cell_type": "code",
   "execution_count": null,
   "id": "1277e22c-f7bd-4bde-b543-dd683453f69c",
   "metadata": {},
   "outputs": [],
   "source": [
    "df_filtered_for_hist = df_long[df_long[\"Kennzahl\"].isin([\"PKW_Gesamt\", \"Anzahl_BEV\"])]\n",
    "\n",
    "\n",
    "fig = px.histogram(\n",
    "    df_filtered_for_hist,\n",
    "    x=\"Wert\",        # Die Werte der Kennzahlen auf der X-Achse\n",
    "    facet_col=\"Kennzahl\", # Eine separate Spalte/Diagramm für jede Kennzahl\n",
    "    #facet_col_wrap=2, # Optional: Wenn du mehr als 2 Kennzahlen hast, um sie in mehreren Reihen anzuordnen\n",
    "    labels={\"Wert\": \"Anzahl / Bestand\", \"Kennzahl\": \"Metrik\"},\n",
    "    height=400,\n",
    "    nbins=10,histnorm= # Anzahl der Bins im Histogramm\n",
    ")\n",
    "fig.show()"
   ]
  },
  {
   "cell_type": "code",
   "execution_count": null,
   "id": "1f0cad9d-236c-4a1c-9d56-1d98dc4b58ee",
   "metadata": {},
   "outputs": [],
   "source": [
    "df_test.columns"
   ]
  },
  {
   "cell_type": "code",
   "execution_count": null,
   "id": "fe44b610-44f4-4f7f-8c59-d7a47acaffff",
   "metadata": {},
   "outputs": [],
   "source": [
    "land_max,anteil_max=df_test.loc[df_test['Anteil_BEV'].idxmax()][[\"Bundesland\",\"Anteil_BEV\"]]\n",
    "land_min,anteil_min=df_test.loc[df_test['Anteil_BEV'].idxmin()][[\"Bundesland\",\"Anteil_BEV\"]]"
   ]
  },
  {
   "cell_type": "code",
   "execution_count": null,
   "id": "eb1fd2c7-8971-4eda-988b-b23c65b338b6",
   "metadata": {},
   "outputs": [],
   "source": [
    "land_max_abs,anzahl_max=df_test.loc[df_test['Anzahl_BEV'].idxmax()][[\"Bundesland\",\"Anzahl_BEV\"]]\n"
   ]
  },
  {
   "cell_type": "code",
   "execution_count": null,
   "id": "5d0daa94-50f1-4bdd-9362-9bb0960d2f19",
   "metadata": {},
   "outputs": [],
   "source": [
    "land_min_abs,anzahl_min=df_test.loc[df_test['Anzahl_BEV'].idxmin()][[\"Bundesland\",\"Anzahl_BEV\"]]"
   ]
  },
  {
   "cell_type": "code",
   "execution_count": null,
   "id": "a875a918-efa5-400b-ba93-b02186bf2718",
   "metadata": {},
   "outputs": [],
   "source": [
    "anzahl_max"
   ]
  },
  {
   "cell_type": "code",
   "execution_count": null,
   "id": "e1ea3732-0c56-4372-9475-6483aaf6f9f7",
   "metadata": {},
   "outputs": [],
   "source": [
    "land_max_abs"
   ]
  },
  {
   "cell_type": "code",
   "execution_count": null,
   "id": "3202d416-f4b9-4e1d-b2fa-7e88839c7aac",
   "metadata": {},
   "outputs": [],
   "source": [
    "land_min_abs"
   ]
  },
  {
   "cell_type": "code",
   "execution_count": null,
   "id": "08b00d70-6710-46a7-8a49-394be8353d71",
   "metadata": {},
   "outputs": [],
   "source": [
    "anzahl_min"
   ]
  },
  {
   "cell_type": "code",
   "execution_count": null,
   "id": "f8a6f4f0-9993-443e-ae4c-2b5598f60022",
   "metadata": {},
   "outputs": [],
   "source": []
  },
  {
   "cell_type": "code",
   "execution_count": null,
   "id": "198beb45-f802-4a62-b2f0-3ec21590fa4f",
   "metadata": {},
   "outputs": [],
   "source": [
    "df_neuzu_bev=pd.read_csv(\"../../src/data/neuzulassung_bev.csv\",delimiter=\";\",encoding='latin-1')"
   ]
  },
  {
   "cell_type": "code",
   "execution_count": null,
   "id": "5f1706cd-60a5-4a25-8cde-e717fbcef92a",
   "metadata": {},
   "outputs": [],
   "source": [
    "df_neuzu_bev[\"anteil_bev\"]=df_neuzu_bev[\"BEV\"]/df_neuzu_bev[\"Gesamt\"]*100"
   ]
  },
  {
   "cell_type": "code",
   "execution_count": null,
   "id": "79dc76ff-b049-4273-ad63-5f3d5b0b3e43",
   "metadata": {},
   "outputs": [],
   "source": [
    "df_neuzu_bev.head()"
   ]
  },
  {
   "cell_type": "code",
   "execution_count": null,
   "id": "09c81ca9-24ff-4f01-9aa9-2e2feba07658",
   "metadata": {},
   "outputs": [],
   "source": [
    "fig=px.area(df_neuzu_bev,x=\"jahr\",y=\"BEV\",color_discrete_sequence=px.colors.qualitative.Pastel)\n",
    "fig.update_xaxes(title_text=\"\")\n",
    "fig.update_yaxes(title_text=\"Neuzulassungen BEV\")\n",
    "fig.update_layout(hovermode=\"x unified\")\n",
    "fig.update_traces(hovertemplate= \"<b>%{fullData.name}</b><br>\" + # Name der Kennzahl (z.B. Benzin, Diesel)\n",
    "                  \"%{y:,.0f}<extra></extra>\" # Wert mit Tausender-Trennzeichen und ohne Dezimalstellen\n",
    ")\n",
    "\n",
    "fig.show()"
   ]
  },
  {
   "cell_type": "markdown",
   "id": "a578ebed-8a09-40a0-9d75-9b9d4258314c",
   "metadata": {},
   "source": [
    "**BEV nach PLZ**\n"
   ]
  },
  {
   "cell_type": "code",
   "execution_count": null,
   "id": "0fea8a5e-73a0-4475-bc8f-25963ffdf7d6",
   "metadata": {},
   "outputs": [],
   "source": [
    "with open(\"../../src/data/georef-germany-postleitzahl.geojson\", 'r', encoding='utf-8') as f:\n",
    "    geojson_plz= json.load(f)\n",
    "    print(\"Geojson geladen\")"
   ]
  },
  {
   "cell_type": "code",
   "execution_count": null,
   "id": "8928370e-ffa2-4c6c-af3d-572235376cf9",
   "metadata": {},
   "outputs": [],
   "source": []
  },
  {
   "cell_type": "code",
   "execution_count": null,
   "id": "41279881-a7b5-4134-b7a1-9e6bfa0f62de",
   "metadata": {},
   "outputs": [],
   "source": []
  },
  {
   "cell_type": "code",
   "execution_count": null,
   "id": "7100e6a1-2782-4300-9357-f2e13611fe93",
   "metadata": {},
   "outputs": [],
   "source": [
    "geojson_plz[\"features\"][0][\"properties\"]"
   ]
  },
  {
   "cell_type": "code",
   "execution_count": null,
   "id": "d682c0e1-0a59-45eb-a7f6-ea829db72837",
   "metadata": {},
   "outputs": [],
   "source": []
  },
  {
   "cell_type": "code",
   "execution_count": null,
   "id": "6bfffb53-52d9-4678-9d48-f8815efb1690",
   "metadata": {},
   "outputs": [],
   "source": []
  },
  {
   "cell_type": "code",
   "execution_count": null,
   "id": "a8a27b30-7f5b-4cdc-bbc8-089b2a29a935",
   "metadata": {},
   "outputs": [],
   "source": [
    "data={\"PLZ\":[],\"lon\":[],\"lat\":[],\"plz_name_long\":[],\"krs_name\":[],\"krs_code\":[]}\n",
    "\n",
    "for kreis in geojson_plz[\"features\"]:\n",
    "    data[\"PLZ\"].append(kreis[\"properties\"][\"plz_code\"])\n",
    "    data[\"plz_name_long\"].append(kreis[\"properties\"][\"plz_name_long\"])\n",
    "    data[\"krs_name\"].append(kreis[\"properties\"][\"krs_name\"])\n",
    "    data[\"krs_code\"].append(kreis[\"properties\"][\"krs_code\"])\n",
    "    data[\"lon\"].append(kreis[\"properties\"][\"geo_point_2d\"][\"lon\"])\n",
    "    data[\"lat\"].append(kreis[\"properties\"][\"geo_point_2d\"][\"lat\"])\n",
    "    "
   ]
  },
  {
   "cell_type": "code",
   "execution_count": null,
   "id": "db907393-1493-4cfe-80a8-78e7579f4852",
   "metadata": {},
   "outputs": [],
   "source": []
  },
  {
   "cell_type": "code",
   "execution_count": null,
   "id": "2ce2b4c3-f969-4ea4-a83b-b931c1ae60dd",
   "metadata": {},
   "outputs": [],
   "source": []
  },
  {
   "cell_type": "code",
   "execution_count": null,
   "id": "7e2b06d3-7705-4333-abbe-fd8def2c9748",
   "metadata": {},
   "outputs": [],
   "source": []
  },
  {
   "cell_type": "code",
   "execution_count": null,
   "id": "50eaae2b-6eb4-4eca-9c55-12145bba8136",
   "metadata": {},
   "outputs": [],
   "source": []
  },
  {
   "cell_type": "code",
   "execution_count": null,
   "id": "1e168c63-72c3-4737-891f-e117585e86c3",
   "metadata": {},
   "outputs": [],
   "source": [
    "df_geo=pd.DataFrame(data)\n",
    "df_geo.head()\n",
    "#df_geo.info()"
   ]
  },
  {
   "cell_type": "code",
   "execution_count": null,
   "id": "2eb8cacd-de76-4083-ad2e-a78cf1454588",
   "metadata": {},
   "outputs": [],
   "source": [
    "df_geo[df_geo[\"PLZ\"]==\"04574\"]"
   ]
  },
  {
   "cell_type": "code",
   "execution_count": null,
   "id": "028ba01c-8549-40c2-a392-47b1c4539219",
   "metadata": {},
   "outputs": [],
   "source": [
    "#df_geo[df_geo[\"krs_code\"]==\"10041\"]\n"
   ]
  },
  {
   "cell_type": "code",
   "execution_count": null,
   "id": "1c02eb43-1651-4146-8210-f7110e8ffd7c",
   "metadata": {},
   "outputs": [],
   "source": [
    "len(df_geo[\"krs_code\"].unique())"
   ]
  },
  {
   "cell_type": "code",
   "execution_count": null,
   "id": "22cb8bd0-b956-4e72-bffd-63a6544679a7",
   "metadata": {},
   "outputs": [],
   "source": [
    "df_geo[\"PLZ\"].size"
   ]
  },
  {
   "cell_type": "code",
   "execution_count": null,
   "id": "612dde05-b2d5-4a1c-a719-a5f8134f49c2",
   "metadata": {},
   "outputs": [],
   "source": [
    "df_geo[\"PLZ\"].unique().size"
   ]
  },
  {
   "cell_type": "code",
   "execution_count": null,
   "id": "d4022acd-b01e-4eaa-86e3-9146ae105599",
   "metadata": {},
   "outputs": [],
   "source": [
    "df_bev_plz=pd.read_csv(\"../../src/data/BEV_nach_plz.csv\",delimiter=\";\",encoding='latin-1')\n",
    "df_bev_plz[\"PLZ\"] = df_bev_plz[\"PLZ\"].astype(str).str.zfill(5)\n",
    "df_bev_plz[\"Anteil_BEV\"]=df_bev_plz[\"Bestand_BEV\"]/df_bev_plz[\"Bestand_PKW\"]*100"
   ]
  },
  {
   "cell_type": "code",
   "execution_count": null,
   "id": "ca5d72b4-7157-4902-86cf-a4a0c2dbc879",
   "metadata": {},
   "outputs": [],
   "source": [
    "df_bev_plz.head()"
   ]
  },
  {
   "cell_type": "code",
   "execution_count": null,
   "id": "8da1e461-926a-4a8c-ba6b-c7bbeb6a7be2",
   "metadata": {},
   "outputs": [],
   "source": [
    "df_bev_plz[\"PLZ\"].size"
   ]
  },
  {
   "cell_type": "code",
   "execution_count": null,
   "id": "97292e52-a9cc-4320-804a-0d8e2e7e2963",
   "metadata": {},
   "outputs": [],
   "source": [
    "df_bev_plz[\"PLZ\"].unique().size"
   ]
  },
  {
   "cell_type": "code",
   "execution_count": null,
   "id": "1c5db28c-7ae1-4778-9823-f1d05b30ec63",
   "metadata": {},
   "outputs": [],
   "source": [
    "# merge"
   ]
  },
  {
   "cell_type": "code",
   "execution_count": null,
   "id": "22136510-f296-4ec9-b952-f598e7ce52ee",
   "metadata": {},
   "outputs": [],
   "source": [
    "bev_kreise=pd.merge(df_bev_plz,df_geo,how=\"left\",on=\"PLZ\")"
   ]
  },
  {
   "cell_type": "code",
   "execution_count": null,
   "id": "affc77fa-088a-434e-b1f3-39952410cf60",
   "metadata": {},
   "outputs": [],
   "source": [
    "bev_kreise[\"Anteil_BEV\"].idxmax()"
   ]
  },
  {
   "cell_type": "code",
   "execution_count": null,
   "id": "af2f1296-84cc-4a83-84d0-6c644929f597",
   "metadata": {},
   "outputs": [],
   "source": [
    "bev_kreise.loc[6556]"
   ]
  },
  {
   "cell_type": "code",
   "execution_count": null,
   "id": "1eec56a7-4ef9-4df1-ad8b-e3600f9312e3",
   "metadata": {},
   "outputs": [],
   "source": [
    "bev_kreise.head()"
   ]
  },
  {
   "cell_type": "code",
   "execution_count": null,
   "id": "b716c02c-2725-4acf-937e-babc3a84523c",
   "metadata": {},
   "outputs": [],
   "source": [
    "bev_kreise.isnull().sum()"
   ]
  },
  {
   "cell_type": "code",
   "execution_count": null,
   "id": "a90f6187-7ae0-4d77-abc5-04599b47ac57",
   "metadata": {},
   "outputs": [],
   "source": [
    "rows_with_any_null = bev_kreise[bev_kreise.isnull().any(axis=1)]\n",
    "rows_with_any_null"
   ]
  },
  {
   "cell_type": "code",
   "execution_count": null,
   "id": "209ebec0-4aba-4e40-b622-69317479cc6e",
   "metadata": {},
   "outputs": [],
   "source": [
    "# PLZ 81248   (23 BEV bei 1494 PKW gelöscht)\n",
    "# PLZ 99331   (59 BEV bei 2131 PKW gelöscht )"
   ]
  },
  {
   "cell_type": "code",
   "execution_count": null,
   "id": "fe977670-fbaa-49c1-9bb5-73632c7328f8",
   "metadata": {},
   "outputs": [],
   "source": [
    "bev_kreise[\"Anteil_BEV\"].describe()"
   ]
  },
  {
   "cell_type": "code",
   "execution_count": null,
   "id": "cb092cb8-2f22-4108-9f9a-d1391a4ad21a",
   "metadata": {},
   "outputs": [],
   "source": [
    "bev_kreise.dropna(inplace=True)"
   ]
  },
  {
   "cell_type": "code",
   "execution_count": null,
   "id": "9286596f-3f61-4026-85d5-d51ef0114bd3",
   "metadata": {},
   "outputs": [],
   "source": [
    "bev_kreise.isnull().sum()"
   ]
  },
  {
   "cell_type": "code",
   "execution_count": null,
   "id": "7cbc1e53-28eb-449a-bd47-9bff13b87906",
   "metadata": {},
   "outputs": [],
   "source": [
    "bev_kreise[\"krs_code\"].unique().size"
   ]
  },
  {
   "cell_type": "code",
   "execution_count": null,
   "id": "c8a6b2f0-c2f2-4ee6-b71a-1257da6b56fa",
   "metadata": {},
   "outputs": [],
   "source": [
    "\n",
    "fig = px.choropleth_map(bev_kreise,\n",
    "                           geojson=geojson_plz, # Die konvertierte GeoJSON-Datei\n",
    "                           locations=\"PLZ\", # Spalte im DataFrame, die den 2-stelligen Schlüssel enthält\n",
    "                           featureidkey=\"properties.plz_code\", # Pfad zum 'schluessel' im GeoJSON-Feature\n",
    "                                                                 # (wie in Ihrer GeoJSON-Struktur gesehen: 'properties': {'schluessel': '06', ...})\n",
    "                           color=\"Anteil_BEV\",               # Spalte, die die Farbe der Region bestimmt\n",
    "                           color_continuous_scale=\"Blues\",  # Farbskala (z.B. \"Viridis\", \"Plasma\", \"Jet\", \"Greens\", \"Blues\")\n",
    "                           range_color=[0,5], # Stellen Sie sicher, dass die Farbskala die volle Bandbreite abdeckt\n",
    "                           map_style=\"carto-positron\",     # Basiskarte (z.B. \"open-street-map\", \"carto-positron\", \"stamen-terrain\")\n",
    "                           zoom=5,                          # Zoom-Level für Deutschland (ca. 4.5 - 5.5)\n",
    "                           center={\"lat\": 51.0, \"lon\": 10.0}, # Zentraler Punkt für Deutschland\n",
    "                           opacity=0.8,                       # Deckkraft der eingefärbten Regionen\n",
    "                           hover_name=\"plz_name_long\",      # Was im Tooltip als Haupttitel angezeigt wird\n",
    "                           hover_data={'Anteil_BEV': ':.1f',\"Bestand_PKW\":\":,.0f\",'PLZ': False,\"Bestand_BEV\":\":,.0f\"}, # Optional: Formatiert die Anzeige der PKW_Bestand im Tooltip (als ganze Zahl)\n",
    "                           #title=\"PKW-Bestand pro Bundesland in Deutschland\" # Titel der Karte\n",
    "                          )\n",
    "\n",
    "\n",
    "fig.update_traces( marker_line_width=0,marker_line_color='rgba(0,0,0,0)')\n",
    "\n",
    "#\"Anteil_BEV\":':.1f'\n",
    "fig.show()\n"
   ]
  },
  {
   "cell_type": "code",
   "execution_count": null,
   "id": "237d1cf1-cc29-40b3-aa36-02e41e4b197c",
   "metadata": {},
   "outputs": [],
   "source": [
    "fig_density = px.density_map(bev_kreise,\n",
    "                                lat=\"lat\",\n",
    "                                lon=\"lon\",\n",
    "                                z=\"Anteil_BEV\", # Optional: Spalte zur Gewichtung der Dichte (z.B. höhere Werte ergeben intensivere Hitze)\n",
    "                                radius=10, # Radius der Dichte-Schätzung in Pixeln (Standard ist 10)\n",
    "                                zoom=5,\n",
    "                                center={\"lat\": 51.0, \"lon\": 10.0},\n",
    "                                map_style=\"carto-positron\",\n",
    "                                hover_name=\"PLZ\",\n",
    "                                hover_data={'Anteil_BEV': ':.1f'})\n",
    "\n",
    "fig_density.update_layout(margin={\"r\":0,\"t\":40,\"l\":0,\"b\":0})\n",
    "fig_density.show()"
   ]
  },
  {
   "cell_type": "code",
   "execution_count": null,
   "id": "3cbe2556-98e7-4888-b947-44ddaf62622d",
   "metadata": {},
   "outputs": [],
   "source": []
  }
 ],
 "metadata": {
  "kernelspec": {
   "display_name": "Python 3 (ipykernel)",
   "language": "python",
   "name": "python3"
  },
  "language_info": {
   "codemirror_mode": {
    "name": "ipython",
    "version": 3
   },
   "file_extension": ".py",
   "mimetype": "text/x-python",
   "name": "python",
   "nbconvert_exporter": "python",
   "pygments_lexer": "ipython3",
   "version": "3.12.7"
  }
 },
 "nbformat": 4,
 "nbformat_minor": 5
}
