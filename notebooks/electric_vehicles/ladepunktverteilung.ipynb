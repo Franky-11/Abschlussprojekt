{
 "cells": [
  {
   "cell_type": "code",
   "execution_count": null,
   "id": "246e22c7-9b1d-4c0d-8cf5-af0c22f64f7a",
   "metadata": {},
   "outputs": [],
   "source": [
    "import pandas as pd\n",
    "import plotly.express as px\n",
    "import json"
   ]
  },
  {
   "cell_type": "code",
   "execution_count": null,
   "id": "5eccb7e7-e534-41ad-9ff3-c5b461d6a932",
   "metadata": {},
   "outputs": [],
   "source": [
    "with open(\"../../src/data/landkreise_simplify200.geojson\", 'r', encoding='utf-8') as f:\n",
    "    geojson_kreise= json.load(f)\n",
    "    print(\"Geojson geladen\")"
   ]
  },
  {
   "cell_type": "code",
   "execution_count": null,
   "id": "f243f326-b385-42c5-a403-08a22dafe257",
   "metadata": {},
   "outputs": [],
   "source": [
    "df=pd.read_csv(\"../../src/data/df_lade_bev.csv\")\n",
    "df[\"Kreis_code\"] = df[\"Kreis_code\"].astype(str).str.zfill(5)"
   ]
  },
  {
   "cell_type": "code",
   "execution_count": null,
   "id": "1fea81b5-8b65-4f50-b9ff-6c43527d7a0c",
   "metadata": {},
   "outputs": [],
   "source": [
    "df.head()"
   ]
  },
  {
   "cell_type": "code",
   "execution_count": null,
   "id": "6b4e2a86-06de-4036-ab1c-ee0f1d60c6b3",
   "metadata": {},
   "outputs": [],
   "source": [
    "df=df.drop_duplicates(subset=\"Kreis_code\",keep=\"first\")"
   ]
  },
  {
   "cell_type": "code",
   "execution_count": null,
   "id": "2b8feef9-dd6b-4eda-93cb-09f73e5644e0",
   "metadata": {},
   "outputs": [],
   "source": [
    "df.shape"
   ]
  },
  {
   "cell_type": "code",
   "execution_count": null,
   "id": "17037877-eef6-4172-bd6c-2dc6b4c6411f",
   "metadata": {},
   "outputs": [],
   "source": [
    "df[\"NL_ratio\"]=(df[\"NL\"]/df[\"Anzahl_Ladepunkte_0425\"])\n",
    "df[\"SL_ratio\"]=(df[\"SL\"]/df[\"Anzahl_Ladepunkte_0425\"])"
   ]
  },
  {
   "cell_type": "code",
   "execution_count": null,
   "id": "c614f6b6-db6e-4713-acf6-2c0232814bae",
   "metadata": {},
   "outputs": [],
   "source": [
    "df[\"BEV_pro_Ladepunkt\"].describe()"
   ]
  },
  {
   "cell_type": "code",
   "execution_count": null,
   "id": "0bc04a67-f06d-4082-9b87-9269e48a1b08",
   "metadata": {},
   "outputs": [],
   "source": [
    "sum_pkw=df[\"Bestand_PKW\"].sum()"
   ]
  },
  {
   "cell_type": "code",
   "execution_count": null,
   "id": "dd237cda-b95d-45c1-9cfd-fe6f2da7f226",
   "metadata": {},
   "outputs": [],
   "source": [
    "sum_lp=df[\"Anzahl_Ladepunkte_0425\"].sum()"
   ]
  },
  {
   "cell_type": "code",
   "execution_count": null,
   "id": "e6d32f4a-8f31-47de-8959-536587444339",
   "metadata": {},
   "outputs": [],
   "source": [
    "# pkw / pkw gesamt"
   ]
  },
  {
   "cell_type": "code",
   "execution_count": null,
   "id": "6a0f1536-4536-4453-9f7d-3825f302605f",
   "metadata": {},
   "outputs": [],
   "source": [
    "df[\"pkw_ratio\"]=df[\"Bestand_PKW\"]/sum_pkw"
   ]
  },
  {
   "cell_type": "code",
   "execution_count": null,
   "id": "8bd65c4d-e12a-4ab1-bec3-b0421a697646",
   "metadata": {},
   "outputs": [],
   "source": [
    "bev_prog=15*1E6\n",
    "lp_prog=400*1E3\n",
    "\n",
    "target_ratio=12\n",
    "\n",
    "\n",
    "\n"
   ]
  },
  {
   "cell_type": "code",
   "execution_count": null,
   "id": "2c06b267-0253-46dd-a6b6-d9494b84ae01",
   "metadata": {},
   "outputs": [],
   "source": [
    "df[\"BEV_prog\"]=df[\"pkw_ratio\"]*bev_prog\n",
    "df[\"BEV_prog_lp_ist\"]=df[\"BEV_prog\"]/df[\"Anzahl_Ladepunkte_0425\"]\n",
    "\n",
    "df[\"lp_ist_ratio\"]=df[\"Anzahl_Ladepunkte_0425\"]/sum_lp\n",
    "\n",
    "df[\"lp_prog_linear\"]=df[\"lp_ist_ratio\"]*lp_prog\n",
    "df[\"BEV_prog_lp_prog_linear\"]=df[\"BEV_prog\"]/df[\"lp_prog_linear\"]\n",
    "\n",
    "df[\"FQ\"]=(df[\"BEV_prog_lp_prog_linear\"]-traget_ratio)**2\n"
   ]
  },
  {
   "cell_type": "code",
   "execution_count": null,
   "id": "8e87370c-217e-4312-a242-bf3a93daaae9",
   "metadata": {},
   "outputs": [],
   "source": [
    "df.head()"
   ]
  },
  {
   "cell_type": "code",
   "execution_count": null,
   "id": "63ab25c5-6814-4d07-a8b9-a7d1e49c596d",
   "metadata": {},
   "outputs": [],
   "source": [
    "df.columns"
   ]
  },
  {
   "cell_type": "code",
   "execution_count": null,
   "id": "7b2759bd-ded0-4a32-a11e-b744f3d27de3",
   "metadata": {},
   "outputs": [],
   "source": []
  },
  {
   "cell_type": "code",
   "execution_count": null,
   "id": "3822ea85-8594-4381-a820-aa54fe03547f",
   "metadata": {},
   "outputs": [],
   "source": [
    "df[\"BEV_prog\"].sum()"
   ]
  },
  {
   "cell_type": "code",
   "execution_count": null,
   "id": "09228768-67cd-40aa-95f2-ecdad94f5571",
   "metadata": {},
   "outputs": [],
   "source": [
    "df[\"lp_prog_linear\"].sum()"
   ]
  },
  {
   "cell_type": "code",
   "execution_count": null,
   "id": "6a2a7122-01e8-4d48-bad7-b03b3b1c3475",
   "metadata": {},
   "outputs": [],
   "source": []
  },
  {
   "cell_type": "code",
   "execution_count": null,
   "id": "f2ccd032-494b-4c5f-919d-75522c13fcb1",
   "metadata": {},
   "outputs": [],
   "source": []
  },
  {
   "cell_type": "code",
   "execution_count": null,
   "id": "d149c5ee-9d72-4e66-b520-e0d4581ba953",
   "metadata": {},
   "outputs": [],
   "source": [
    "from scipy.optimize import minimize\n",
    "import numpy as np"
   ]
  },
  {
   "cell_type": "code",
   "execution_count": null,
   "id": "c9de3a64-52ca-4fd9-b784-3ea0a6130a87",
   "metadata": {},
   "outputs": [],
   "source": [
    "lp_verteilung=df[\"lp_prog_linear\"]\n",
    "bev_array=df[\"BEV_prog\"]\n",
    "lp_mindest = df[\"Anzahl_Ladepunkte_0425\"].values "
   ]
  },
  {
   "cell_type": "code",
   "execution_count": null,
   "id": "b5edfa64-1ac3-49c7-9006-fb0a34576f24",
   "metadata": {},
   "outputs": [],
   "source": [
    "def fehlerquadrate(lp_verteilung, bev_array, target_ratio):\n",
    "    verhältnis = bev_array / lp_verteilung\n",
    "    fehler = (verhältnis - target_ratio) ** 2\n",
    "    return np.sum(fehler)"
   ]
  },
  {
   "cell_type": "code",
   "execution_count": null,
   "id": "ad127f89-b07a-41dc-8439-2b32d5c4a4a3",
   "metadata": {},
   "outputs": [],
   "source": [
    "def summe_ladepunkte(lp_verteilung):\n",
    "    return np.sum(lp_verteilung) - 400_000 "
   ]
  },
  {
   "cell_type": "code",
   "execution_count": null,
   "id": "681b19f5-6464-4f41-a4b3-a6e94e2bd1c9",
   "metadata": {},
   "outputs": [],
   "source": [
    "fehlerquadrate(lp_verteilung, bev_array, target_ratio)"
   ]
  },
  {
   "cell_type": "code",
   "execution_count": null,
   "id": "04cb4211-0318-428b-ab19-decab342d41f",
   "metadata": {},
   "outputs": [],
   "source": [
    "lp_start = np.full_like(bev_array, 400_000 / len(bev_array))"
   ]
  },
  {
   "cell_type": "code",
   "execution_count": null,
   "id": "18ac9fa2-3d7d-41b5-a3ed-b257823bf786",
   "metadata": {},
   "outputs": [],
   "source": [
    "bounds = [(min_val, None) for min_val in lp_mindest]"
   ]
  },
  {
   "cell_type": "code",
   "execution_count": null,
   "id": "711b7ccc-1e69-408a-9e72-9d0608ac43f1",
   "metadata": {},
   "outputs": [],
   "source": [
    "\n",
    "\n",
    "res = minimize(\n",
    "    fehlerquadrate,\n",
    "    lp_start,\n",
    "    args=(bev_array, target_ratio),\n",
    "    method=\"SLSQP\",\n",
    "    bounds=bounds,\n",
    "    constraints={\"type\": \"eq\", \"fun\": summe_ladepunkte}\n",
    ")"
   ]
  },
  {
   "cell_type": "code",
   "execution_count": null,
   "id": "b816287d-1f97-46fb-aa7d-a28218e30c1f",
   "metadata": {},
   "outputs": [],
   "source": [
    "optimierte_lp = res.x  # optimierte Ladepunktverteilung\n",
    "df[\"optimierte_Ladepunkte\"] = optimierte_lp\n",
    "df[\"optimierter_BEV_prog/LP_prog\"] = df[\"BEV_prog\"] / df[\"optimierte_Ladepunkte\"]"
   ]
  },
  {
   "cell_type": "code",
   "execution_count": null,
   "id": "7ba960fa-a8a9-4784-afcd-6a0ed52ed45b",
   "metadata": {},
   "outputs": [],
   "source": [
    "df[\"change_lp%\"]=((df[\"optimierte_Ladepunkte\"]-df[\"Anzahl_Ladepunkte_0425\"])/df[\"Anzahl_Ladepunkte_0425\"])*100\n",
    "df[\"lp_opt/lp_ist\"]=df[\"optimierte_Ladepunkte\"]/df[\"Anzahl_Ladepunkte_0425\"]\n",
    "df[\"diff_lp_opt_lp_ist\"]=df[\"optimierte_Ladepunkte\"]-df[\"Anzahl_Ladepunkte_0425\"]"
   ]
  },
  {
   "cell_type": "code",
   "execution_count": null,
   "id": "2ce71b22-5dfe-40b8-9f5f-f49e1ef4fc9f",
   "metadata": {},
   "outputs": [],
   "source": [
    "df[\"optimierte_Ladepunkte\"].sum()"
   ]
  },
  {
   "cell_type": "code",
   "execution_count": null,
   "id": "24db3205-5cca-4b23-ac27-c0cc54187c22",
   "metadata": {},
   "outputs": [],
   "source": [
    "df.head()"
   ]
  },
  {
   "cell_type": "code",
   "execution_count": null,
   "id": "89ed02fb-1313-4ff3-8386-823932191f40",
   "metadata": {},
   "outputs": [],
   "source": []
  },
  {
   "cell_type": "code",
   "execution_count": null,
   "id": "eccd0d24-2e83-4bd7-94d8-640c06681d9b",
   "metadata": {},
   "outputs": [],
   "source": []
  },
  {
   "cell_type": "code",
   "execution_count": null,
   "id": "0e9eead3-8619-4649-92c1-9ca0968f5a6f",
   "metadata": {},
   "outputs": [],
   "source": [
    "min_val = df[\"BEV_prog_lp_prog_linear\"].min()\n",
    "max_val = df[\"BEV_prog_lp_prog_linear\"].max()\n",
    "\n",
    "fig = px.choropleth_map(df,\n",
    "                           geojson=geojson_kreise, \n",
    "                           locations=\"Kreis_code\", \n",
    "                           featureidkey=\"properties.RS\",  \n",
    "                           color=\"BEV_prog_lp_prog_linear\",\n",
    "                          # color_continuous_scale=color_scale,\n",
    "                           range_color=[min_val, max_val],\n",
    "                        \n",
    "                           #color=\"status\", \n",
    "                           #color_discrete_map={\"hoch\": \"red\", \"mittel\": \"yellow\",\"niedrig\":\"green\"},\n",
    "                           color_continuous_scale=\"Reds\",  \n",
    "                           #range_color=[0,10], #\n",
    "                           map_style=\"carto-positron\",     \n",
    "                           zoom=5,                         \n",
    "                           center={\"lat\": 51.0, \"lon\": 10.0}, \n",
    "                           opacity=0.8,                       \n",
    "                           hover_name=\"Landkreis_y\") \n",
    "                          # hover_data=hover_data)\n",
    "                     \n",
    "fig.update_layout(\n",
    "    coloraxis_colorbar=dict(\n",
    "        title=dict(\n",
    "            text=\"∅ BEV_prog_lp_prog_linear\",\n",
    "            font=dict(size=14) )))\n",
    "\n",
    "fig.update_traces( marker_line_width=0,marker_line_color='rgba(0,0,0,0)')"
   ]
  },
  {
   "cell_type": "code",
   "execution_count": null,
   "id": "90c1acae-e0ff-4607-a738-00e9cfdca253",
   "metadata": {},
   "outputs": [],
   "source": [
    "min_val = df[\"BEV_prog_lp_prog_linear\"].min()\n",
    "max_val = df[\"BEV_prog_lp_prog_linear\"].max()\n",
    "#cutoff_low = status_groups[\"low\"]\n",
    "#cutoff_mid = status_groups[\"high\"]\n",
    "\n",
    "#max_val_safe = max(max_val, cutoff_mid)\n",
    "\n",
    "#low_rel = (cutoff_low - min_val) / (max_val_safe - min_val)\n",
    "#mid_rel = (cutoff_mid - min_val) / (max_val_safe - min_val)\n",
    "\n",
    "\n",
    "\n",
    "\n",
    "fig = px.choropleth_map(df,\n",
    "                           geojson=geojson_kreise, \n",
    "                           locations=\"Kreis_code\", \n",
    "                           featureidkey=\"properties.RS\",  \n",
    "                           color=\"optimierter_BEV_prog/LP_prog\",\n",
    "                          # color_continuous_scale=color_scale,\n",
    "                           range_color=[min_val, max_val],\n",
    "                        \n",
    "                           #color=\"status\", \n",
    "                           #color_discrete_map={\"hoch\": \"red\", \"mittel\": \"yellow\",\"niedrig\":\"green\"},\n",
    "                           color_continuous_scale=\"Reds\",  \n",
    "                           #range_color=[0,10], #\n",
    "                           map_style=\"carto-positron\",     \n",
    "                           zoom=5,                         \n",
    "                           center={\"lat\": 51.0, \"lon\": 10.0}, \n",
    "                           opacity=0.8,                       \n",
    "                           hover_name=\"Landkreis_y\") \n",
    "                          # hover_data=hover_data)\n",
    "                     \n",
    "fig.update_layout(\n",
    "    coloraxis_colorbar=dict(\n",
    "        title=dict(\n",
    "            text=\"∅ BEV_prog_lp_prog_optimiert\",\n",
    "            font=dict(size=14) )))\n",
    "\n",
    "fig.update_traces( marker_line_width=0,marker_line_color='rgba(0,0,0,0)')"
   ]
  },
  {
   "cell_type": "code",
   "execution_count": null,
   "id": "1e6c2141-00a7-46d9-baf4-bdb0c5f3669b",
   "metadata": {},
   "outputs": [],
   "source": [
    "min_val = df[\"diff_lp_opt_lp_ist\"].min()\n",
    "max_val = df[\"diff_lp_opt_lp_ist\"].max()\n",
    "#cutoff_low = status_groups[\"low\"]\n",
    "#cutoff_mid = status_groups[\"high\"]\n",
    "\n",
    "#max_val_safe = max(max_val, cutoff_mid)\n",
    "\n",
    "#low_rel = (cutoff_low - min_val) / (max_val_safe - min_val)\n",
    "#mid_rel = (cutoff_mid - min_val) / (max_val_safe - min_val)\n",
    "\n",
    "\n",
    "\n",
    "\n",
    "fig = px.choropleth_map(df,\n",
    "                           geojson=geojson_kreise, \n",
    "                           locations=\"Kreis_code\", \n",
    "                           featureidkey=\"properties.RS\",  \n",
    "                           color=\"diff_lp_opt_lp_ist\",\n",
    "                          # color_continuous_scale=color_scale,\n",
    "                           range_color=[min_val, max_val],\n",
    "                        \n",
    "                           #color=\"status\", \n",
    "                           #color_discrete_map={\"hoch\": \"red\", \"mittel\": \"yellow\",\"niedrig\":\"green\"},\n",
    "                           color_continuous_scale=\"Reds\",  \n",
    "                           #range_color=[0,10], #\n",
    "                           map_style=\"carto-positron\",     \n",
    "                           zoom=5,                         \n",
    "                           center={\"lat\": 51.0, \"lon\": 10.0}, \n",
    "                           opacity=0.8,                       \n",
    "                           hover_name=\"Landkreis_y\") \n",
    "                          # hover_data=hover_data)\n",
    "                     \n",
    "fig.update_layout(\n",
    "    coloraxis_colorbar=dict(\n",
    "        title=dict(\n",
    "            text=\"Notwendige Erhöhung Ladepunkte\",\n",
    "            font=dict(size=14) )))\n",
    "\n",
    "fig.update_traces( marker_line_width=0,marker_line_color='rgba(0,0,0,0)')"
   ]
  },
  {
   "cell_type": "code",
   "execution_count": null,
   "id": "2ecd479c-92ef-429d-8671-245845b2e7ea",
   "metadata": {},
   "outputs": [],
   "source": [
    "#2. Szenario Ladepunktanzahl nicht beschränkt nach oben, Verhältnis festgesetzt auf 12 BEV/Ladepunkt"
   ]
  },
  {
   "cell_type": "code",
   "execution_count": null,
   "id": "bf72d285-6bce-4e82-a467-0aeef3dc22c8",
   "metadata": {},
   "outputs": [],
   "source": [
    "lp_start = np.full_like(bev_array, 400_000 / len(bev_array))"
   ]
  },
  {
   "cell_type": "code",
   "execution_count": null,
   "id": "2c20423f-f2f4-4472-aedb-d39cb5f1cc8f",
   "metadata": {},
   "outputs": [],
   "source": []
  },
  {
   "cell_type": "code",
   "execution_count": null,
   "id": "7b05e007-7a79-4194-96dc-bb05fb807459",
   "metadata": {},
   "outputs": [],
   "source": []
  },
  {
   "cell_type": "code",
   "execution_count": null,
   "id": "f0314c88-1437-4661-93d7-d73b34d950bc",
   "metadata": {},
   "outputs": [],
   "source": [
    "res = minimize(\n",
    "    fehlerquadrate,\n",
    "    x0=lp_start,\n",
    "    args=(bev_array, target_ratio),\n",
    "    method=\"SLSQP\",\n",
    "    bounds=bounds\n",
    ")"
   ]
  },
  {
   "cell_type": "code",
   "execution_count": null,
   "id": "ae45b626-b629-4abd-893f-628323d1ba79",
   "metadata": {},
   "outputs": [],
   "source": [
    "optimierte_lp_ohne_ob = res.x  # optimierte Ladepunktverteilung\n",
    "df[\"optimierte_Ladepunkte_ohne_ob\"] = optimierte_lp_ohne_ob\n",
    "df[\"optimierter_BEV_prog/LP_prog_ohne_ob\"] = df[\"BEV_prog\"] / df[\"optimierte_Ladepunkte_ohne_ob\"]"
   ]
  },
  {
   "cell_type": "code",
   "execution_count": null,
   "id": "d0fccd51-01d2-4517-828e-18dfce56af01",
   "metadata": {},
   "outputs": [],
   "source": [
    "df[\"lp_opt_ohne_ob/lp_ist\"]=df[\"optimierte_Ladepunkte_ohne_ob\"]/df[\"Anzahl_Ladepunkte_0425\"]\n",
    "df[\"diff_lp_opt_ohne_ob_lp_ist\"]=df[\"optimierte_Ladepunkte_ohne_ob\"]-df[\"Anzahl_Ladepunkte_0425\"]"
   ]
  },
  {
   "cell_type": "code",
   "execution_count": null,
   "id": "7398fce0-602e-42a1-8842-76a21e39b649",
   "metadata": {},
   "outputs": [],
   "source": [
    "df[\"optimierte_Ladepunkte_ohne_ob\"].sum()/1E6\n"
   ]
  },
  {
   "cell_type": "code",
   "execution_count": null,
   "id": "faef7e56-8114-464d-b10d-3fb0023d07ee",
   "metadata": {},
   "outputs": [],
   "source": [
    "min_val = df[\"diff_lp_opt_ohne_ob_lp_ist\"].min()\n",
    "max_val = df[\"diff_lp_opt_ohne_ob_lp_ist\"].max()\n",
    "#cutoff_low = status_groups[\"low\"]\n",
    "#cutoff_mid = status_groups[\"high\"]\n",
    "\n",
    "#max_val_safe = max(max_val, cutoff_mid)\n",
    "\n",
    "#low_rel = (cutoff_low - min_val) / (max_val_safe - min_val)\n",
    "#mid_rel = (cutoff_mid - min_val) / (max_val_safe - min_val)\n",
    "\n",
    "\n",
    "\n",
    "\n",
    "fig = px.choropleth_map(df,\n",
    "                           geojson=geojson_kreise, \n",
    "                           locations=\"Kreis_code\", \n",
    "                           featureidkey=\"properties.RS\",  \n",
    "                           color=\"diff_lp_opt_ohne_ob_lp_ist\",\n",
    "                          # color_continuous_scale=color_scale,\n",
    "                           range_color=[min_val, max_val],\n",
    "                        \n",
    "                           #color=\"status\", \n",
    "                           #color_discrete_map={\"hoch\": \"red\", \"mittel\": \"yellow\",\"niedrig\":\"green\"},\n",
    "                           color_continuous_scale=\"Reds\",  \n",
    "                           #range_color=[0,10], #\n",
    "                           map_style=\"carto-positron\",     \n",
    "                           zoom=5,                         \n",
    "                           center={\"lat\": 51.0, \"lon\": 10.0}, \n",
    "                           opacity=0.8,                       \n",
    "                           hover_name=\"Landkreis_y\") \n",
    "                          # hover_data=hover_data)\n",
    "                     \n",
    "fig.update_layout(\n",
    "    coloraxis_colorbar=dict(\n",
    "        title=dict(\n",
    "            text=\"Notwendige Erhöhung Ladepunkte\",\n",
    "            font=dict(size=14) )))\n",
    "\n",
    "fig.update_traces( marker_line_width=0,marker_line_color='rgba(0,0,0,0)')"
   ]
  },
  {
   "cell_type": "code",
   "execution_count": null,
   "id": "ff5c03ae-749a-4c6d-9abf-5d55e00ecb58",
   "metadata": {},
   "outputs": [],
   "source": [
    "min_val = df[\"optimierter_BEV_prog/LP_prog_ohne_ob\"].min()\n",
    "max_val = df[\"optimierter_BEV_prog/LP_prog_ohne_ob\"].max()\n",
    "#cutoff_low = status_groups[\"low\"]\n",
    "#cutoff_mid = status_groups[\"high\"]\n",
    "\n",
    "#max_val_safe = max(max_val, cutoff_mid)\n",
    "\n",
    "#low_rel = (cutoff_low - min_val) / (max_val_safe - min_val)\n",
    "#mid_rel = (cutoff_mid - min_val) / (max_val_safe - min_val)\n",
    "\n",
    "\n",
    "\n",
    "\n",
    "fig = px.choropleth_map(df,\n",
    "                           geojson=geojson_kreise, \n",
    "                           locations=\"Kreis_code\", \n",
    "                           featureidkey=\"properties.RS\",  \n",
    "                           color=\"optimierter_BEV_prog/LP_prog_ohne_ob\",\n",
    "                          # color_continuous_scale=color_scale,\n",
    "                           range_color=[min_val, max_val],\n",
    "                        \n",
    "                           #color=\"status\", \n",
    "                           #color_discrete_map={\"hoch\": \"red\", \"mittel\": \"yellow\",\"niedrig\":\"green\"},\n",
    "                           color_continuous_scale=\"Reds\",  \n",
    "                           #range_color=[0,10], #\n",
    "                           map_style=\"carto-positron\",     \n",
    "                           zoom=5,                         \n",
    "                           center={\"lat\": 51.0, \"lon\": 10.0}, \n",
    "                           opacity=0.8,                       \n",
    "                           hover_name=\"Landkreis_y\") \n",
    "                          # hover_data=hover_data)\n",
    "                     \n",
    "fig.update_layout(\n",
    "    coloraxis_colorbar=dict(\n",
    "        title=dict(\n",
    "            text=\"Notwendige Erhöhung Ladepunkte\",\n",
    "            font=dict(size=14) )))\n",
    "\n",
    "fig.update_traces( marker_line_width=0,marker_line_color='rgba(0,0,0,0)')"
   ]
  },
  {
   "cell_type": "code",
   "execution_count": null,
   "id": "2986bf59-ecc9-42bc-893e-abc3120b1a98",
   "metadata": {},
   "outputs": [],
   "source": []
  }
 ],
 "metadata": {
  "kernelspec": {
   "display_name": "Python 3 (ipykernel)",
   "language": "python",
   "name": "python3"
  },
  "language_info": {
   "codemirror_mode": {
    "name": "ipython",
    "version": 3
   },
   "file_extension": ".py",
   "mimetype": "text/x-python",
   "name": "python",
   "nbconvert_exporter": "python",
   "pygments_lexer": "ipython3",
   "version": "3.12.7"
  }
 },
 "nbformat": 4,
 "nbformat_minor": 5
}
